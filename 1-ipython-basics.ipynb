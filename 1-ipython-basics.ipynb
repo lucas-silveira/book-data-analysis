{
 "cells": [
  {
   "cell_type": "markdown",
   "id": "a404de67-0c4f-4d12-ba88-702e61929550",
   "metadata": {},
   "source": [
    "# IPython Basics"
   ]
  },
  {
   "cell_type": "markdown",
   "id": "fb82a7f0",
   "metadata": {},
   "source": [
    "**IPython** é uma ferramenta que nos permite escrever código de forma interativa e exploratória, ideal para análise de dados.\n",
    "\n",
    "Iniciar sessão no IPython shell:\n",
    "```sh\n",
    "$ ipython\n",
    "```"
   ]
  },
  {
   "cell_type": "markdown",
   "id": "91d4c490",
   "metadata": {},
   "source": [
    "Exemplo:\n",
    "```sh\n",
    "$ ipython\n",
    "Python 3.10.4 | packaged by conda-forge | (main, Mar 24 2022, 17:38:57)\n",
    "Type 'copyright', 'credits' or 'license' for more information\n",
    "IPython 7.31.1 -- An enhanced Interactive Python. Type '?' for help.\n",
    "\n",
    "In [1]: a = 5\n",
    "\n",
    "In [2]: a\n",
    "Out[2]: 5\n",
    "```"
   ]
  },
  {
   "cell_type": "markdown",
   "id": "4a9fdf9a",
   "metadata": {
    "vscode": {
     "languageId": "plaintext"
    }
   },
   "source": [
    "Para imprimir um valor, basta digitar o nome da variável e apertar *enter*:\n",
    "```sh\n",
    "In [5]: import numpy as np\n",
    "\n",
    "In [6]: data = [np.random.standard_normal() for i in range(7)]\n",
    "\n",
    "In [7]: data\n",
    "Out[7]: \n",
    "[-0.20470765948471295,\n",
    " 0.47894333805754824,\n",
    " -0.5194387150567381,\n",
    " -0.55573030434749,\n",
    " 1.9657805725027142,\n",
    " 1.3934058329729904,\n",
    " 0.09290787674371767]\n",
    "```\n",
    "Use esse modo para imprimir os valores em IPython, pois eles se apresentarão de forma mais legível do que se usar a função `print()`."
   ]
  },
  {
   "cell_type": "markdown",
   "id": "02e8e8d2",
   "metadata": {},
   "source": [
    "Execute scripts python dentro de uma sessão IPython usando o comando `%run`:\n",
    "```sh\n",
    "In [1]: %run hello_world.py\n",
    "Hello world\n",
    "\n",
    "In [2]:\n",
    "```"
   ]
  },
  {
   "cell_type": "markdown",
   "id": "a67669b6",
   "metadata": {},
   "source": [
    "O caractere `%` nos permite executar comandos shell:\n",
    "```sh\n",
    "In [1]: %pwd\n",
    "Out[1]: '/Users/lucassilveira/projects/python/book-data-analysis'\n",
    "\n",
    "In [2]: %ls\n",
    "1-ipython-basics.ipynb  README.md\n",
    "```"
   ]
  },
  {
   "cell_type": "markdown",
   "id": "76950fb0",
   "metadata": {},
   "source": [
    "Use o caractere `?` para obter informações sobre o objeto:"
   ]
  },
  {
   "cell_type": "markdown",
   "id": "8aeedf2d",
   "metadata": {},
   "source": [
    "b = [1, 2, 3]"
   ]
  },
  {
   "cell_type": "code",
   "execution_count": 3,
   "id": "aa1769ed",
   "metadata": {},
   "outputs": [
    {
     "name": "stdout",
     "output_type": "stream",
     "text": [
      "\u001b[0;31mType:\u001b[0m        list\n",
      "\u001b[0;31mString form:\u001b[0m [1, 2, 3]\n",
      "\u001b[0;31mLength:\u001b[0m      3\n",
      "\u001b[0;31mDocstring:\u001b[0m  \n",
      "Built-in mutable sequence.\n",
      "\n",
      "If no argument is given, the constructor creates a new empty list.\n",
      "The argument must be an iterable if specified."
     ]
    }
   ],
   "source": [
    "b?"
   ]
  },
  {
   "cell_type": "code",
   "execution_count": 4,
   "id": "389f7153",
   "metadata": {},
   "outputs": [
    {
     "name": "stdout",
     "output_type": "stream",
     "text": [
      "\u001b[0;31mSignature:\u001b[0m \u001b[0mprint\u001b[0m\u001b[0;34m(\u001b[0m\u001b[0;34m*\u001b[0m\u001b[0margs\u001b[0m\u001b[0;34m,\u001b[0m \u001b[0msep\u001b[0m\u001b[0;34m=\u001b[0m\u001b[0;34m' '\u001b[0m\u001b[0;34m,\u001b[0m \u001b[0mend\u001b[0m\u001b[0;34m=\u001b[0m\u001b[0;34m'\\n'\u001b[0m\u001b[0;34m,\u001b[0m \u001b[0mfile\u001b[0m\u001b[0;34m=\u001b[0m\u001b[0;32mNone\u001b[0m\u001b[0;34m,\u001b[0m \u001b[0mflush\u001b[0m\u001b[0;34m=\u001b[0m\u001b[0;32mFalse\u001b[0m\u001b[0;34m)\u001b[0m\u001b[0;34m\u001b[0m\u001b[0;34m\u001b[0m\u001b[0m\n",
      "\u001b[0;31mDocstring:\u001b[0m\n",
      "Prints the values to a stream, or to sys.stdout by default.\n",
      "\n",
      "sep\n",
      "  string inserted between values, default a space.\n",
      "end\n",
      "  string appended after the last value, default a newline.\n",
      "file\n",
      "  a file-like object (stream); defaults to the current sys.stdout.\n",
      "flush\n",
      "  whether to forcibly flush the stream.\n",
      "\u001b[0;31mType:\u001b[0m      builtin_function_or_method"
     ]
    }
   ],
   "source": [
    "print?"
   ]
  },
  {
   "cell_type": "markdown",
   "id": "53901906",
   "metadata": {},
   "source": [
    "Use o caractere `?` para buscar por objetos em um namespace:"
   ]
  },
  {
   "cell_type": "code",
   "execution_count": 8,
   "id": "2b6196f4",
   "metadata": {},
   "outputs": [],
   "source": [
    "import numpy as np"
   ]
  },
  {
   "cell_type": "code",
   "execution_count": 9,
   "id": "c11441a0",
   "metadata": {},
   "outputs": [
    {
     "name": "stdout",
     "output_type": "stream",
     "text": [
      "np.__loader__\n",
      "np.load\n",
      "np.loadtxt"
     ]
    }
   ],
   "source": [
    "np.*load*?"
   ]
  }
 ],
 "metadata": {
  "kernelspec": {
   "display_name": "Python 3",
   "language": "python",
   "name": "python3"
  },
  "language_info": {
   "codemirror_mode": {
    "name": "ipython",
    "version": 3
   },
   "file_extension": ".py",
   "mimetype": "text/x-python",
   "name": "python",
   "nbconvert_exporter": "python",
   "pygments_lexer": "ipython3",
   "version": "3.11.2"
  }
 },
 "nbformat": 4,
 "nbformat_minor": 5
}
