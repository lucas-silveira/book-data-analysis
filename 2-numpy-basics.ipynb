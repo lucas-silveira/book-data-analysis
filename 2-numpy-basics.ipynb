{
 "cells": [
  {
   "cell_type": "markdown",
   "metadata": {},
   "source": [
    "# NumPy Basics"
   ]
  },
  {
   "cell_type": "markdown",
   "metadata": {},
   "source": [
    "Algumas das coisas oferecidas por NumPy:\n",
    "- ndarray, um array multidimensional eficiente que fornece operações aritméticas orientadas a arrays rápidas e recursos de transmissão flexíveis.\n",
    "- Funções matemáticas para operações rápidas em matrizes inteiras de dados sem precisar escrever loops.\n",
    "- Ferramentas para ler/escrever dados de array em disco e trabalhar com arquivos mapeados em memória.\n",
    "- Capacidades de álgebra linear, geração de números aleatórios e transformada de Fourier\n",
    "- API C para conectar NumPy com bibliotecas escritas em C, C++ ou FORTRAN  "
   ]
  },
  {
   "cell_type": "markdown",
   "metadata": {},
   "source": [
    "NumPy é projetado para ser eficiente em grandes matrizes de dados.\n",
    "- Ele armazena internamente dados em um bloco contíguo de memória de modo que os seus algoritmos (escritos em C) possam operar nesse bloco.\n",
    "- Os arrays NumPy usam muito menos memória do que as sequências nativas do Python.\n",
    "- Operações NumPy realizam cálculos complexos em arrays inteiros sem a necessidade de loops `for`, que pode ser lento para sequências grandes.\n",
    "- NumPy é mais rápido que o código regular do Python porque seus algoritmos baseados em C evitam a sobrecarga presente em  código interpretado.\n",
    "- Os algoritmos baseados em NumPy são geralmente de 10 a 100 vezes mais rápidos (ou mais) do que seus equivalentes em Python puro e usam significativamente menos memória."
   ]
  },
  {
   "cell_type": "markdown",
   "metadata": {},
   "source": [
    "## ndarray"
   ]
  },
  {
   "cell_type": "markdown",
   "metadata": {},
   "source": [
    "O **ndarray** é um objeto de array multidimensional (N-dimensões). Com ele, é possível realizar operações matemáticas em blocos inteiros de dados como se fossem valores escalares:"
   ]
  },
  {
   "cell_type": "code",
   "execution_count": 1,
   "metadata": {},
   "outputs": [],
   "source": [
    "import numpy as np"
   ]
  },
  {
   "cell_type": "code",
   "execution_count": 2,
   "metadata": {},
   "outputs": [],
   "source": [
    "data = np.array([[1.5, -0.1, 3], [0, -3, 6.5]])"
   ]
  },
  {
   "cell_type": "code",
   "execution_count": 3,
   "metadata": {},
   "outputs": [
    {
     "data": {
      "text/plain": [
       "array([[ 1.5, -0.1,  3. ],\n",
       "       [ 0. , -3. ,  6.5]])"
      ]
     },
     "execution_count": 3,
     "metadata": {},
     "output_type": "execute_result"
    }
   ],
   "source": [
    "data"
   ]
  },
  {
   "cell_type": "code",
   "execution_count": 4,
   "metadata": {},
   "outputs": [
    {
     "data": {
      "text/plain": [
       "array([[ 15.,  -1.,  30.],\n",
       "       [  0., -30.,  65.]])"
      ]
     },
     "execution_count": 4,
     "metadata": {},
     "output_type": "execute_result"
    }
   ],
   "source": [
    "data * 10"
   ]
  },
  {
   "cell_type": "code",
   "execution_count": 5,
   "metadata": {},
   "outputs": [
    {
     "data": {
      "text/plain": [
       "array([[ 3. , -0.2,  6. ],\n",
       "       [ 0. , -6. , 13. ]])"
      ]
     },
     "execution_count": 5,
     "metadata": {},
     "output_type": "execute_result"
    }
   ],
   "source": [
    "data + data"
   ]
  },
  {
   "cell_type": "markdown",
   "metadata": {},
   "source": [
    "O ndarray é um container multidimensional homogêneo, ou seja, todos os elementos precisam ser do mesmo tipo. Cada objeto possui um atributo `shape`, uma tupla indicando o tamanho de cada dimensão, e um `dtype`, um objeto descrevendo o tipo de dado do array:"
   ]
  },
  {
   "cell_type": "code",
   "execution_count": 6,
   "metadata": {},
   "outputs": [
    {
     "data": {
      "text/plain": [
       "(2, 3)"
      ]
     },
     "execution_count": 6,
     "metadata": {},
     "output_type": "execute_result"
    }
   ],
   "source": [
    "data.shape"
   ]
  },
  {
   "cell_type": "code",
   "execution_count": 7,
   "metadata": {},
   "outputs": [
    {
     "data": {
      "text/plain": [
       "dtype('float64')"
      ]
     },
     "execution_count": 7,
     "metadata": {},
     "output_type": "execute_result"
    }
   ],
   "source": [
    "data.dtype"
   ]
  }
 ],
 "metadata": {
  "kernelspec": {
   "display_name": "Python 3",
   "language": "python",
   "name": "python3"
  },
  "language_info": {
   "codemirror_mode": {
    "name": "ipython",
    "version": 3
   },
   "file_extension": ".py",
   "mimetype": "text/x-python",
   "name": "python",
   "nbconvert_exporter": "python",
   "pygments_lexer": "ipython3",
   "version": "3.11.2"
  }
 },
 "nbformat": 4,
 "nbformat_minor": 2
}
