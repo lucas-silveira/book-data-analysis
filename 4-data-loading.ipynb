{
 "cells": [
  {
   "cell_type": "markdown",
   "metadata": {},
   "source": [
    "# Data Loading, Storage, and File Formats"
   ]
  },
  {
   "cell_type": "code",
   "execution_count": null,
   "metadata": {},
   "outputs": [],
   "source": [
    "import numpy as np"
   ]
  },
  {
   "cell_type": "code",
   "execution_count": 1,
   "metadata": {},
   "outputs": [],
   "source": [
    "import pandas as pd"
   ]
  },
  {
   "cell_type": "markdown",
   "metadata": {},
   "source": [
    "Pandas oferece várias funções para converter dados tabulares em objetos DataFrames:"
   ]
  },
  {
   "cell_type": "markdown",
   "metadata": {},
   "source": [
    " Função          | Descrição\n",
    "-----------------|--------------------------------------------------------------------------------------------\n",
    "`read_csv`       | Carrega dados de um arquivo CSV ou URL; utiliza ponto e vírgula (;) como delimitador padrão\n",
    "`read_fwf`       | Carrega dados no formato fixed-width columns (i.e. sem delimitadores)\n",
    "`read_clipboard` | Variação de `read_csv` que carrega dados da área de transferência; útil para converter tabelas de páginas da web\n",
    "`read_excel`     | Carrega dados de um arquivo XLS ou XLSX\n",
    "`read_hdf`       | Carrega arquivos HDF5 escritos pelo pandas\n",
    "`read_html`      | Carrega todas as tabelas encontradas no arquivo html\n",
    "`read_json`      | Carrega dados de um arquivo JSON, string ou URL\n",
    "`read_parquet`   | Carrega dados de um arquivo Parquet\n",
    "`read_sql`       | Carrega dados de uma query SQL (utiliza SQLAlchemy)\n",
    "`read_xml`       | Carrega dados de um arquivo XML"
   ]
  }
 ],
 "metadata": {
  "kernelspec": {
   "display_name": "Python 3",
   "language": "python",
   "name": "python3"
  },
  "language_info": {
   "codemirror_mode": {
    "name": "ipython",
    "version": 3
   },
   "file_extension": ".py",
   "mimetype": "text/x-python",
   "name": "python",
   "nbconvert_exporter": "python",
   "pygments_lexer": "ipython3",
   "version": "3.11.2"
  }
 },
 "nbformat": 4,
 "nbformat_minor": 2
}
